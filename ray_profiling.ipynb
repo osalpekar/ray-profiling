{
 "cells": [
  {
   "cell_type": "code",
   "execution_count": 1,
   "metadata": {
    "collapsed": true
   },
   "outputs": [],
   "source": [
    "import ray\n",
    "import cProfile\n",
    "import pstats\n",
    "import time\n",
    "import sys\n",
    "import numpy as np\n",
    "import matplotlib.pyplot as plt\n",
    "%matplotlib inline"
   ]
  },
  {
   "cell_type": "code",
   "execution_count": 2,
   "metadata": {},
   "outputs": [
    {
     "name": "stdout",
     "output_type": "stream",
     "text": [
      "Waiting for redis server at 127.0.0.1:35596 to respond...\n",
      "Waiting for redis server at 127.0.0.1:63023 to respond...\n",
      "Starting local scheduler with the following resources: {'CPU': 8, 'GPU': 0}.\n",
      "\n",
      "======================================================================\n",
      "View the web UI at http://localhost:8890/notebooks/ray_ui67392.ipynb?token=4e0630d80139d13f8ed6e56564b320ee4f3a1bf8c6208edd\n",
      "======================================================================\n",
      "\n"
     ]
    },
    {
     "data": {
      "text/plain": [
       "{'local_scheduler_socket_names': ['/tmp/scheduler19777857'],\n",
       " 'node_ip_address': '127.0.0.1',\n",
       " 'object_store_addresses': [ObjectStoreAddress(name='/tmp/plasma_store52747897', manager_name='/tmp/plasma_manager16294683', manager_port=50024)],\n",
       " 'redis_address': '127.0.0.1:35596',\n",
       " 'webui_url': 'http://localhost:8890/notebooks/ray_ui67392.ipynb?token=4e0630d80139d13f8ed6e56564b320ee4f3a1bf8c6208edd'}"
      ]
     },
     "execution_count": 2,
     "metadata": {},
     "output_type": "execute_result"
    }
   ],
   "source": [
    "ray.init()"
   ]
  },
  {
   "cell_type": "markdown",
   "metadata": {},
   "source": [
    "# Functions"
   ]
  },
  {
   "cell_type": "code",
   "execution_count": 3,
   "metadata": {
    "collapsed": true
   },
   "outputs": [],
   "source": [
    "def get_profile_data(arr):\n",
    "    pr = cProfile.Profile(timeunit = .000001)\n",
    "    pr.enable()\n",
    "    ray.put(arr)\n",
    "    pr.disable()\n",
    "    return pr"
   ]
  },
  {
   "cell_type": "code",
   "execution_count": 4,
   "metadata": {
    "collapsed": true
   },
   "outputs": [],
   "source": [
    "def stats_printer(profile_object):\n",
    "    s = StringIO.StringIO()\n",
    "    sortby = 'module'\n",
    "    ps = pstats.Stats(profile_object, stream=s).sort_stats(sortby)\n",
    "    ps.strip_dirs()\n",
    "    ps.print_stats('worker|plasma')\n",
    "    print(s.getvalue())"
   ]
  },
  {
   "cell_type": "code",
   "execution_count": 5,
   "metadata": {
    "collapsed": true
   },
   "outputs": [],
   "source": [
    "def print_profile_data(arr, return_put = False):\n",
    "    profile_data = get_profile_data(arr)\n",
    "    put = 0.0\n",
    "    \n",
    "    print('ncalls', 'tottime', 'inlinetime', 'filename(function)', sep='\\t\\t')\n",
    "    for line in profile_data.getstats():\n",
    "        code = line.code\n",
    "        if type(code) is not str:\n",
    "            code = code.co_filename.split('/')[-1]+\":\"+code.co_name\n",
    "\n",
    "        ncalls = line.callcount\n",
    "        tottime = \"%.6f\" % line.totaltime\n",
    "        inlinetime = \"%.6f\" % line.inlinetime\n",
    "\n",
    "        if code == \"<method 'put' of 'pyarrow.plasma.PlasmaClient' objects>\":\n",
    "            put = tottime\n",
    "        \n",
    "        print(ncalls, tottime, inlinetime, code, sep='\\t\\t')\n",
    "        \n",
    "        if return_put:\n",
    "            return put"
   ]
  },
  {
   "cell_type": "code",
   "execution_count": 6,
   "metadata": {
    "collapsed": true
   },
   "outputs": [],
   "source": [
    "def get_put_time(arr):\n",
    "    profile_data = get_profile_data(arr)\n",
    "    put = 0.0\n",
    "    \n",
    "    for line in profile_data.getstats():\n",
    "        code = line.code\n",
    "        if type(code) is not str:\n",
    "            code = code.co_filename.split('/')[-1]+\":\"+code.co_name\n",
    "            \n",
    "        if code == \"<method 'put' of 'pyarrow.plasma.PlasmaClient' objects>\":\n",
    "            put = line.totaltime\n",
    "\n",
    "    return put"
   ]
  },
  {
   "cell_type": "markdown",
   "metadata": {},
   "source": [
    "# Test Inputs"
   ]
  },
  {
   "cell_type": "code",
   "execution_count": 7,
   "metadata": {
    "collapsed": true
   },
   "outputs": [],
   "source": [
    "short_numpy_array = np.array([1,2,3,4,5])\n",
    "large_numpy_array = np.array([i for i in range(100000)])\n",
    "very_large_numpy_array = np.array([i for i in range(1000000)])"
   ]
  },
  {
   "cell_type": "code",
   "execution_count": 8,
   "metadata": {},
   "outputs": [
    {
     "data": {
      "text/plain": [
       "136"
      ]
     },
     "execution_count": 8,
     "metadata": {},
     "output_type": "execute_result"
    }
   ],
   "source": [
    "sys.getsizeof(short_numpy_array)"
   ]
  },
  {
   "cell_type": "code",
   "execution_count": 9,
   "metadata": {
    "scrolled": true
   },
   "outputs": [
    {
     "data": {
      "text/plain": [
       "800096"
      ]
     },
     "execution_count": 9,
     "metadata": {},
     "output_type": "execute_result"
    }
   ],
   "source": [
    "sys.getsizeof(large_numpy_array)"
   ]
  },
  {
   "cell_type": "code",
   "execution_count": 10,
   "metadata": {},
   "outputs": [
    {
     "data": {
      "text/plain": [
       "8000096"
      ]
     },
     "execution_count": 10,
     "metadata": {},
     "output_type": "execute_result"
    }
   ],
   "source": [
    "sys.getsizeof(very_large_numpy_array)"
   ]
  },
  {
   "cell_type": "markdown",
   "metadata": {},
   "source": [
    "# Profiling Results with Custom Printer"
   ]
  },
  {
   "cell_type": "code",
   "execution_count": 11,
   "metadata": {},
   "outputs": [
    {
     "name": "stdout",
     "output_type": "stream",
     "text": [
      "ncalls\t\ttottime\t\tinlinetime\t\tfilename(function)\n",
      "2\t\t0.000000\t\t0.000000\t\t<method 'items' of 'dict' objects>\n",
      "4\t\t0.000003\t\t0.000003\t\t<built-in method builtins.isinstance>\n",
      "1\t\t0.000000\t\t0.000000\t\t<built-in method _thread.get_ident>\n",
      "1\t\t0.000001\t\t0.000001\t\tthreading.py:name\n",
      "1\t\t0.000003\t\t0.000002\t\tthreading.py:getName\n",
      "1\t\t0.000004\t\t0.000004\t\tthreading.py:current_thread\n",
      "1\t\t0.000000\t\t0.000000\t\t<method 'disable' of '_lsprof.Profiler' objects>\n",
      "1\t\t0.001540\t\t0.000034\t\tworker.py:store_and_register\n",
      "1\t\t0.000027\t\t0.000027\t\t<method 'compute_put_id' of 'local_scheduler.LocalSchedulerClient' objects>\n",
      "1\t\t0.000001\t\t0.000001\t\t<method 'id' of 'common.ObjectID' objects>\n",
      "1\t\t0.001557\t\t0.000014\t\tworker.py:put_object\n",
      "1\t\t0.000011\t\t0.000004\t\tworker.py:check_main_thread\n",
      "1\t\t0.000002\t\t0.000002\t\tworker.py:check_connected\n",
      "1\t\t0.000003\t\t0.000003\t\tworker.py:__init__\n",
      "1\t\t0.000015\t\t0.000005\t\tworker.py:__enter__\n",
      "1\t\t0.000009\t\t0.000004\t\tworker.py:__exit__\n",
      "1\t\t0.000007\t\t0.000004\t\tworker.py:log_span\n",
      "2\t\t0.000001\t\t0.000001\t\tworker.py:<dictcomp>\n",
      "2\t\t0.000015\t\t0.000014\t\tworker.py:log\n",
      "1\t\t0.001662\t\t0.000034\t\tworker.py:put\n",
      "1\t\t0.001505\t\t0.001505\t\t<method 'put' of 'pyarrow.plasma.PlasmaClient' objects>\n"
     ]
    }
   ],
   "source": [
    "print_profile_data(short_numpy_array)"
   ]
  },
  {
   "cell_type": "code",
   "execution_count": 12,
   "metadata": {},
   "outputs": [
    {
     "name": "stdout",
     "output_type": "stream",
     "text": [
      "ncalls\t\ttottime\t\tinlinetime\t\tfilename(function)\n",
      "2\t\t0.000001\t\t0.000001\t\t<method 'items' of 'dict' objects>\n",
      "4\t\t0.000002\t\t0.000002\t\t<built-in method builtins.isinstance>\n",
      "1\t\t0.000001\t\t0.000001\t\t<built-in method _thread.get_ident>\n",
      "1\t\t0.000001\t\t0.000001\t\tthreading.py:name\n",
      "1\t\t0.000003\t\t0.000002\t\tthreading.py:getName\n",
      "1\t\t0.000003\t\t0.000002\t\tthreading.py:current_thread\n",
      "1\t\t0.000000\t\t0.000000\t\t<method 'disable' of '_lsprof.Profiler' objects>\n",
      "1\t\t0.008625\t\t0.000015\t\tworker.py:store_and_register\n",
      "1\t\t0.000025\t\t0.000025\t\t<method 'compute_put_id' of 'local_scheduler.LocalSchedulerClient' objects>\n",
      "1\t\t0.000001\t\t0.000001\t\t<method 'id' of 'common.ObjectID' objects>\n",
      "1\t\t0.008631\t\t0.000004\t\tworker.py:put_object\n",
      "1\t\t0.000010\t\t0.000004\t\tworker.py:check_main_thread\n",
      "1\t\t0.000001\t\t0.000001\t\tworker.py:check_connected\n",
      "1\t\t0.000001\t\t0.000001\t\tworker.py:__init__\n",
      "1\t\t0.000012\t\t0.000002\t\tworker.py:__enter__\n",
      "1\t\t0.000010\t\t0.000003\t\tworker.py:__exit__\n",
      "1\t\t0.000005\t\t0.000004\t\tworker.py:log_span\n",
      "2\t\t0.000001\t\t0.000001\t\tworker.py:<dictcomp>\n",
      "2\t\t0.000017\t\t0.000015\t\tworker.py:log\n",
      "1\t\t0.008712\t\t0.000018\t\tworker.py:put\n",
      "1\t\t0.008609\t\t0.008609\t\t<method 'put' of 'pyarrow.plasma.PlasmaClient' objects>\n"
     ]
    }
   ],
   "source": [
    "print_profile_data(large_numpy_array)"
   ]
  },
  {
   "cell_type": "code",
   "execution_count": 13,
   "metadata": {},
   "outputs": [
    {
     "name": "stdout",
     "output_type": "stream",
     "text": [
      "ncalls\t\ttottime\t\tinlinetime\t\tfilename(function)\n",
      "2\t\t0.000000\t\t0.000000\t\t<method 'items' of 'dict' objects>\n",
      "4\t\t0.000003\t\t0.000003\t\t<built-in method builtins.isinstance>\n",
      "1\t\t0.000001\t\t0.000001\t\t<built-in method _thread.get_ident>\n",
      "1\t\t0.000003\t\t0.000003\t\tthreading.py:name\n",
      "1\t\t0.000004\t\t0.000001\t\tthreading.py:getName\n",
      "1\t\t0.000006\t\t0.000005\t\tthreading.py:current_thread\n",
      "1\t\t0.000000\t\t0.000000\t\t<method 'disable' of '_lsprof.Profiler' objects>\n",
      "1\t\t0.213542\t\t0.000036\t\tworker.py:store_and_register\n",
      "1\t\t0.000051\t\t0.000051\t\t<method 'compute_put_id' of 'local_scheduler.LocalSchedulerClient' objects>\n",
      "1\t\t0.000002\t\t0.000002\t\t<method 'id' of 'common.ObjectID' objects>\n",
      "1\t\t0.213554\t\t0.000010\t\tworker.py:put_object\n",
      "1\t\t0.000015\t\t0.000005\t\tworker.py:check_main_thread\n",
      "1\t\t0.000002\t\t0.000002\t\tworker.py:check_connected\n",
      "1\t\t0.000002\t\t0.000002\t\tworker.py:__init__\n",
      "1\t\t0.000018\t\t0.000004\t\tworker.py:__enter__\n",
      "1\t\t0.000015\t\t0.000005\t\tworker.py:__exit__\n",
      "1\t\t0.000007\t\t0.000005\t\tworker.py:log_span\n",
      "2\t\t0.000001\t\t0.000001\t\tworker.py:<dictcomp>\n",
      "2\t\t0.000024\t\t0.000022\t\tworker.py:log\n",
      "1\t\t0.213688\t\t0.000026\t\tworker.py:put\n",
      "1\t\t0.213504\t\t0.213504\t\t<method 'put' of 'pyarrow.plasma.PlasmaClient' objects>\n"
     ]
    }
   ],
   "source": [
    "print_profile_data(very_large_numpy_array)"
   ]
  },
  {
   "cell_type": "code",
   "execution_count": 14,
   "metadata": {},
   "outputs": [
    {
     "name": "stdout",
     "output_type": "stream",
     "text": [
      "[1, 10, 100, 1000, 10000, 100000, 1000000, 10000000]\n",
      "[0.00021559999999999998, 0.00016539999999999998, 0.00021880000000000003, 0.00020879999999999995, 0.0003789, 0.0011403, 0.008023899999999999, 0.053356]\n"
     ]
    },
    {
     "data": {
      "text/plain": [
       "[<matplotlib.lines.Line2D at 0x1117bba90>]"
      ]
     },
     "execution_count": 14,
     "metadata": {},
     "output_type": "execute_result"
    },
    {
     "data": {
      "image/png": "[encoded data removed]",
      "text/plain": [
       "<matplotlib.figure.Figure at 0x1117bba58>"
      ]
     },
     "metadata": {},
     "output_type": "display_data"
    }
   ],
   "source": [
    "xs = [10**i for i in range(8)]\n",
    "ys = []\n",
    "for x in xs:\n",
    "    samples = []\n",
    "    for j in range(10):\n",
    "        samples.append(get_put_time(np.array([i for i in range(x)])))\n",
    "    ys.append(np.average(samples))\n",
    "    \n",
    "print(xs)\n",
    "print(ys)\n",
    "\n",
    "plt.title('Logged array length against Plasma put time')\n",
    "plt.xlabel('Logged array length')\n",
    "plt.ylabel('cProfile time (s)')\n",
    "plt.plot(np.log10(xs), ys)"
   ]
  },
  {
   "cell_type": "markdown",
   "metadata": {},
   "source": [
    "# Profiling Results with Default Printer"
   ]
  },
  {
   "cell_type": "code",
   "execution_count": null,
   "metadata": {},
   "outputs": [],
   "source": [
    "get_profile_data(short_numpy_array).print_stats()"
   ]
  },
  {
   "cell_type": "code",
   "execution_count": null,
   "metadata": {},
   "outputs": [],
   "source": [
    "get_profile_data(large_numpy_array).print_stats()"
   ]
  },
  {
   "cell_type": "code",
   "execution_count": null,
   "metadata": {},
   "outputs": [],
   "source": [
    "get_profile_data(very_large_numpy_array).print_stats()"
   ]
  },
  {
   "cell_type": "code",
   "execution_count": null,
   "metadata": {
    "collapsed": true
   },
   "outputs": [],
   "source": []
  }
 ],
 "metadata": {
  "kernelspec": {
   "display_name": "Python 3",
   "language": "python",
   "name": "python3"
  },
  "language_info": {
   "codemirror_mode": {
    "name": "ipython",
    "version": 3
   },
   "file_extension": ".py",
   "mimetype": "text/x-python",
   "name": "python",
   "nbconvert_exporter": "python",
   "pygments_lexer": "ipython3",
   "version": "3.6.3"
  }
 },
 "nbformat": 4,
 "nbformat_minor": 2
}
