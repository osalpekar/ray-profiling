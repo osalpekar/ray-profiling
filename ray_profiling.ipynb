{
 "cells": [
  {
   "cell_type": "markdown",
   "metadata": {},
   "source": [
    "# Profiling ray.put()"
   ]
  },
  {
   "cell_type": "code",
   "execution_count": 1,
   "metadata": {
    "collapsed": false
   },
   "outputs": [],
   "source": [
    "import ray\n",
    "import cProfile\n",
    "import pstats\n",
    "import StringIO\n",
    "import time\n",
    "import sys\n",
    "import string\n",
    "import random\n",
    "import numpy as np\n",
    "import matplotlib.pyplot as plt\n",
    "%matplotlib inline"
   ]
  },
  {
   "cell_type": "code",
   "execution_count": 2,
   "metadata": {
    "collapsed": false
   },
   "outputs": [
    {
     "name": "stdout",
     "output_type": "stream",
     "text": [
      "Waiting for redis server at 127.0.0.1:29553 to respond...\n",
      "Waiting for redis server at 127.0.0.1:58879 to respond...\n",
      "Starting local scheduler with the following resources: {'GPU': 0, 'CPU': 4}.\n",
      "\n",
      "======================================================================\n",
      "View the web UI at http://localhost:8909/notebooks/ray_ui89901.ipynb?token=bedd9fd01ce2db14bbda79f39e78717513c998f5dc22db1c\n",
      "======================================================================\n",
      "\n"
     ]
    },
    {
     "data": {
      "text/plain": [
       "{'local_scheduler_socket_names': ['/tmp/scheduler87044079'],\n",
       " 'node_ip_address': '127.0.0.1',\n",
       " 'object_store_addresses': [ObjectStoreAddress(name='/tmp/plasma_store32559637', manager_name='/tmp/plasma_manager52276148', manager_port=11174)],\n",
       " 'redis_address': '127.0.0.1:29553',\n",
       " 'webui_url': 'http://localhost:8909/notebooks/ray_ui89901.ipynb?token=bedd9fd01ce2db14bbda79f39e78717513c998f5dc22db1c'}"
      ]
     },
     "execution_count": 2,
     "metadata": {},
     "output_type": "execute_result"
    }
   ],
   "source": [
    "ray.init()"
   ]
  },
  {
   "cell_type": "markdown",
   "metadata": {},
   "source": [
    "## Functions"
   ]
  },
  {
   "cell_type": "code",
   "execution_count": 3,
   "metadata": {
    "collapsed": true
   },
   "outputs": [],
   "source": [
    "def get_profile_data(arr):\n",
    "    pr = cProfile.Profile()\n",
    "    pr.enable()\n",
    "    ray.put(arr)\n",
    "    pr.disable()\n",
    "    return pr"
   ]
  },
  {
   "cell_type": "code",
   "execution_count": 4,
   "metadata": {
    "collapsed": true
   },
   "outputs": [],
   "source": [
    "def stats_printer(profile_object):\n",
    "    s = StringIO.StringIO()\n",
    "    sortby = 'module'\n",
    "    ps = pstats.Stats(profile_object, stream=s).sort_stats(sortby)\n",
    "    ps.strip_dirs()\n",
    "    ps.print_stats('put|plasma|store_and_register')\n",
    "    print s.getvalue()"
   ]
  },
  {
   "cell_type": "code",
   "execution_count": 5,
   "metadata": {
    "collapsed": true
   },
   "outputs": [],
   "source": [
    "def print_profile_data_raw(arr):\n",
    "    pr = get_profile_data(arr)\n",
    "    stats_printer(pr)"
   ]
  },
  {
   "cell_type": "code",
   "execution_count": 6,
   "metadata": {
    "collapsed": false
   },
   "outputs": [],
   "source": [
    "def print_profile_data_clean(arr):\n",
    "    profile_data = get_profile_data(arr)\n",
    "    put = 0.0\n",
    "    \n",
    "    print 'ncalls' + '\\t' + 'inlinetime' + '\\t' +'tottime' + '\\t' + '\\t' + 'filename(function)'\n",
    "    for line in profile_data.getstats():\n",
    "        code = line.code\n",
    "        if type(code) is not str:\n",
    "            code = code.co_filename.split('/')[-1]+\":\"+code.co_name\n",
    "\n",
    "        ncalls = line.callcount\n",
    "        tottime = \"%.6f\" % line.totaltime\n",
    "        inlinetime = \"%.6f\" % line.inlinetime\n",
    "        \n",
    "        if 'put' in code or 'plasma' in code or 'store_and_register' in code:\n",
    "            print str(ncalls) + '\\t' + str(inlinetime) + '\\t' + str(tottime) + '\\t' + str(code)"
   ]
  },
  {
   "cell_type": "code",
   "execution_count": 7,
   "metadata": {
    "collapsed": true
   },
   "outputs": [],
   "source": [
    "def get_plasma_put_time(arr):\n",
    "    profile_data = get_profile_data(arr)\n",
    "    put = 0.0\n",
    "    \n",
    "    for line in profile_data.getstats():\n",
    "        code = line.code\n",
    "        if type(code) is not str:\n",
    "            code = code.co_filename.split('/')[-1]+\":\"+code.co_name\n",
    "            \n",
    "        if code == \"<method 'put' of 'pyarrow.plasma.PlasmaClient' objects>\":\n",
    "            put = line.totaltime\n",
    "\n",
    "    return put"
   ]
  },
  {
   "cell_type": "markdown",
   "metadata": {},
   "source": [
    "## Test Inputs"
   ]
  },
  {
   "cell_type": "code",
   "execution_count": 22,
   "metadata": {
    "collapsed": false
   },
   "outputs": [],
   "source": [
    "NUM_STRINGS = 2*10**5\n",
    "STRING_LENGTH = 20\n",
    "short_numpy_array = np.array([1,2,3,4,5])"
   ]
  },
  {
   "cell_type": "code",
   "execution_count": 23,
   "metadata": {
    "collapsed": true
   },
   "outputs": [],
   "source": [
    "large_numpy_array = np.array([i for i in range(NUM_STRINGS)])"
   ]
  },
  {
   "cell_type": "code",
   "execution_count": 24,
   "metadata": {
    "collapsed": true
   },
   "outputs": [],
   "source": [
    "very_large_numpy_array = np.array([i for i in range(NUM_STRINGS * 10)])"
   ]
  },
  {
   "cell_type": "code",
   "execution_count": 25,
   "metadata": {
    "collapsed": true
   },
   "outputs": [],
   "source": [
    "large_string_array = [''.join(random.choice(string.ascii_letters) for _ in range(STRING_LENGTH)) for _ in range(NUM_STRINGS)]"
   ]
  },
  {
   "cell_type": "code",
   "execution_count": 26,
   "metadata": {
    "collapsed": true
   },
   "outputs": [],
   "source": [
    "array_of_large_integers = [np.random.randint(0, sys.maxsize) for _ in range(NUM_STRINGS * 10)]"
   ]
  },
  {
   "cell_type": "code",
   "execution_count": 27,
   "metadata": {
    "collapsed": true
   },
   "outputs": [],
   "source": [
    "large_string_array_asints = np.array([[ord(c) for c in s] for s in large_string_array], dtype=np.uint8)"
   ]
  },
  {
   "cell_type": "code",
   "execution_count": 29,
   "metadata": {
    "collapsed": false,
    "scrolled": true
   },
   "outputs": [
    {
     "name": "stdout",
     "output_type": "stream",
     "text": [
      "Size of short numpy array: 0 MB\n",
      "Size of large numpy array: 1 MB\n",
      "Size of very large numpy array: 15 MB\n",
      "Size of large string array: 1 MB\n",
      "Size of large integer array: 16 MB\n",
      "Size of string array as ints: 3 MB\n"
     ]
    }
   ],
   "source": [
    "print(\"Size of short numpy array: \" + str(sys.getsizeof(short_numpy_array)/1024/1024) + \" MB\")\n",
    "print(\"Size of large numpy array: \" + str(sys.getsizeof(large_numpy_array)/1024/1024) + \" MB\")\n",
    "print(\"Size of very large numpy array: \" + str(sys.getsizeof(very_large_numpy_array)/1024/1024) + \" MB\")\n",
    "print(\"Size of large string array: \" + str(sys.getsizeof(large_string_array)/1024/1024) + \" MB\")\n",
    "print(\"Size of large integer array: \" + str(sys.getsizeof(array_of_large_integers)/1024/1024) + \" MB\")\n",
    "print(\"Size of string array as ints: \" + str(sys.getsizeof(large_string_array_asints)/1024/1024) + \" MB\")"
   ]
  },
  {
   "cell_type": "markdown",
   "metadata": {},
   "source": [
    "## Profiling Results"
   ]
  },
  {
   "cell_type": "code",
   "execution_count": 30,
   "metadata": {
    "collapsed": false
   },
   "outputs": [
    {
     "name": "stdout",
     "output_type": "stream",
     "text": [
      "ncalls\tinlinetime\ttottime\t\tfilename(function)\n",
      "1\t0.000028\t0.000028\t<method 'compute_put_id' of 'local_scheduler.LocalSchedulerClient' objects>\n",
      "1\t0.000023\t0.002444\tworker.py:store_and_register\n",
      "1\t0.000012\t0.002458\tworker.py:put_object\n",
      "1\t0.000031\t0.002561\tworker.py:put\n",
      "1\t0.002421\t0.002421\t<method 'put' of 'pyarrow.plasma.PlasmaClient' objects>\n"
     ]
    }
   ],
   "source": [
    "print_profile_data_clean(short_numpy_array)"
   ]
  },
  {
   "cell_type": "code",
   "execution_count": 31,
   "metadata": {
    "collapsed": false
   },
   "outputs": [
    {
     "name": "stdout",
     "output_type": "stream",
     "text": [
      "ncalls\tinlinetime\ttottime\t\tfilename(function)\n",
      "1\t0.000028\t0.000028\t<method 'compute_put_id' of 'local_scheduler.LocalSchedulerClient' objects>\n",
      "1\t0.000018\t0.004975\tworker.py:store_and_register\n",
      "1\t0.000009\t0.004986\tworker.py:put_object\n",
      "1\t0.000028\t0.005087\tworker.py:put\n",
      "1\t0.004957\t0.004957\t<method 'put' of 'pyarrow.plasma.PlasmaClient' objects>\n"
     ]
    }
   ],
   "source": [
    "print_profile_data_clean(large_numpy_array)"
   ]
  },
  {
   "cell_type": "code",
   "execution_count": 32,
   "metadata": {
    "collapsed": false
   },
   "outputs": [
    {
     "name": "stdout",
     "output_type": "stream",
     "text": [
      "ncalls\tinlinetime\ttottime\t\tfilename(function)\n",
      "1\t0.000028\t0.000028\t<method 'compute_put_id' of 'local_scheduler.LocalSchedulerClient' objects>\n",
      "1\t0.000017\t0.016693\tworker.py:store_and_register\n",
      "1\t0.000007\t0.016703\tworker.py:put_object\n",
      "1\t0.000025\t0.016807\tworker.py:put\n",
      "1\t0.016675\t0.016675\t<method 'put' of 'pyarrow.plasma.PlasmaClient' objects>\n"
     ]
    }
   ],
   "source": [
    "print_profile_data_clean(very_large_numpy_array)"
   ]
  },
  {
   "cell_type": "code",
   "execution_count": 33,
   "metadata": {
    "collapsed": false
   },
   "outputs": [
    {
     "name": "stdout",
     "output_type": "stream",
     "text": [
      "ncalls\tinlinetime\ttottime\t\tfilename(function)\n",
      "1\t0.000028\t0.000028\t<method 'compute_put_id' of 'local_scheduler.LocalSchedulerClient' objects>\n",
      "1\t0.000018\t0.061744\tworker.py:store_and_register\n",
      "1\t0.000006\t0.061752\tworker.py:put_object\n",
      "1\t0.000021\t0.061845\tworker.py:put\n",
      "1\t0.061725\t0.061725\t<method 'put' of 'pyarrow.plasma.PlasmaClient' objects>\n"
     ]
    }
   ],
   "source": [
    "print_profile_data_clean(large_string_array)"
   ]
  },
  {
   "cell_type": "code",
   "execution_count": 34,
   "metadata": {
    "collapsed": false
   },
   "outputs": [
    {
     "name": "stdout",
     "output_type": "stream",
     "text": [
      "ncalls\tinlinetime\ttottime\t\tfilename(function)\n",
      "1\t0.000025\t0.000025\t<method 'compute_put_id' of 'local_scheduler.LocalSchedulerClient' objects>\n",
      "1\t0.000020\t0.270654\tworker.py:store_and_register\n",
      "1\t0.000005\t0.270661\tworker.py:put_object\n",
      "1\t0.000018\t0.270740\tworker.py:put\n",
      "1\t0.270633\t0.270633\t<method 'put' of 'pyarrow.plasma.PlasmaClient' objects>\n"
     ]
    }
   ],
   "source": [
    "print_profile_data_clean(array_of_large_integers)"
   ]
  },
  {
   "cell_type": "code",
   "execution_count": 35,
   "metadata": {
    "collapsed": false,
    "scrolled": true
   },
   "outputs": [
    {
     "name": "stdout",
     "output_type": "stream",
     "text": [
      "ncalls\tinlinetime\ttottime\t\tfilename(function)\n",
      "1\t0.000023\t0.000023\t<method 'compute_put_id' of 'local_scheduler.LocalSchedulerClient' objects>\n",
      "1\t0.000014\t0.006213\tworker.py:store_and_register\n",
      "1\t0.000007\t0.006222\tworker.py:put_object\n",
      "1\t0.000026\t0.006309\tworker.py:put\n",
      "1\t0.006199\t0.006199\t<method 'put' of 'pyarrow.plasma.PlasmaClient' objects>\n"
     ]
    }
   ],
   "source": [
    "print_profile_data_clean(large_string_array_asints)"
   ]
  },
  {
   "cell_type": "markdown",
   "metadata": {},
   "source": [
    "## Plots"
   ]
  },
  {
   "cell_type": "code",
   "execution_count": 21,
   "metadata": {
    "collapsed": false
   },
   "outputs": [
    {
     "name": "stdout",
     "output_type": "stream",
     "text": [
      "[1, 10, 100, 1000, 10000, 100000, 1000000, 10000000]\n",
      "[0.00039579999999999997, 0.00033150000000000003, 0.0002761, 0.0012675, 0.0005989999999999999, 0.0017467, 0.0075423, 0.08639559999999999]\n"
     ]
    },
    {
     "data": {
      "text/plain": [
       "[<matplotlib.lines.Line2D at 0x23098c410>]"
      ]
     },
     "execution_count": 21,
     "metadata": {},
     "output_type": "execute_result"
    },
    {
     "data": {
      "image/png": "[encoded data removed]",
      "text/plain": [
       "<matplotlib.figure.Figure at 0x106a12ed0>"
      ]
     },
     "metadata": {},
     "output_type": "display_data"
    }
   ],
   "source": [
    "xs = [10**i for i in range(8)]\n",
    "ys = []\n",
    "for x in xs:\n",
    "    samples = []\n",
    "    for j in range(10):\n",
    "        samples.append(get_plasma_put_time(np.array([np.random.randint(0, sys.maxsize) for _ in range(x)])))\n",
    "    ys.append(np.average(samples))\n",
    "    \n",
    "print(xs)\n",
    "print(ys)\n",
    "\n",
    "plt.title('Array Length vs Plasma put time')\n",
    "plt.xlabel('Array Length')\n",
    "plt.xscale('log')\n",
    "plt.ylabel('Time (s)')\n",
    "plt.plot(xs, ys)"
   ]
  },
  {
   "cell_type": "code",
   "execution_count": null,
   "metadata": {
    "collapsed": true
   },
   "outputs": [],
   "source": []
  }
 ],
 "metadata": {
  "kernelspec": {
   "display_name": "Python 2",
   "language": "python",
   "name": "python2"
  },
  "language_info": {
   "codemirror_mode": {
    "name": "ipython",
    "version": 2
   },
   "file_extension": ".py",
   "mimetype": "text/x-python",
   "name": "python",
   "nbconvert_exporter": "python",
   "pygments_lexer": "ipython2",
   "version": "2.7.12"
  }
 },
 "nbformat": 4,
 "nbformat_minor": 2
}
