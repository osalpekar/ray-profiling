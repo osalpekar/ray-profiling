{
 "cells": [
  {
   "cell_type": "markdown",
   "metadata": {},
   "source": [
    "# Profiling ray.put()"
   ]
  },
  {
   "cell_type": "code",
   "execution_count": 49,
   "metadata": {
    "collapsed": true
   },
   "outputs": [],
   "source": [
    "import ray\n",
    "import cProfile\n",
    "import pstats\n",
    "import StringIO\n",
    "import time\n",
    "import sys\n",
    "import string\n",
    "import random\n",
    "import numpy as np\n",
    "import matplotlib.pyplot as plt\n",
    "%matplotlib inline"
   ]
  },
  {
   "cell_type": "code",
   "execution_count": 11,
   "metadata": {
    "collapsed": false
   },
   "outputs": [
    {
     "name": "stdout",
     "output_type": "stream",
     "text": [
      "Waiting for redis server at 127.0.0.1:38242 to respond...\n",
      "Waiting for redis server at 127.0.0.1:26667 to respond...\n",
      "Starting local scheduler with the following resources: {'GPU': 0, 'CPU': 4}.\n",
      "\n",
      "======================================================================\n",
      "View the web UI at http://localhost:8908/notebooks/ray_ui84491.ipynb?token=4eb95e4c975f91f340d48126ea7546961e21ae5fa09943ae\n",
      "======================================================================\n",
      "\n"
     ]
    },
    {
     "data": {
      "text/plain": [
       "{'local_scheduler_socket_names': ['/tmp/scheduler41348786'],\n",
       " 'node_ip_address': '127.0.0.1',\n",
       " 'object_store_addresses': [ObjectStoreAddress(name='/tmp/plasma_store51442310', manager_name='/tmp/plasma_manager5184722', manager_port=12306)],\n",
       " 'redis_address': '127.0.0.1:38242',\n",
       " 'webui_url': 'http://localhost:8908/notebooks/ray_ui84491.ipynb?token=4eb95e4c975f91f340d48126ea7546961e21ae5fa09943ae'}"
      ]
     },
     "execution_count": 11,
     "metadata": {},
     "output_type": "execute_result"
    }
   ],
   "source": [
    "ray.init()"
   ]
  },
  {
   "cell_type": "markdown",
   "metadata": {},
   "source": [
    "## Functions"
   ]
  },
  {
   "cell_type": "code",
   "execution_count": 12,
   "metadata": {
    "collapsed": true
   },
   "outputs": [],
   "source": [
    "def get_profile_data(arr):\n",
    "    pr = cProfile.Profile()\n",
    "    pr.enable()\n",
    "    ray.put(arr)\n",
    "    pr.disable()\n",
    "    return pr"
   ]
  },
  {
   "cell_type": "code",
   "execution_count": 13,
   "metadata": {
    "collapsed": true
   },
   "outputs": [],
   "source": [
    "def stats_printer(profile_object):\n",
    "    s = StringIO.StringIO()\n",
    "    sortby = 'module'\n",
    "    ps = pstats.Stats(profile_object, stream=s).sort_stats(sortby)\n",
    "    ps.strip_dirs()\n",
    "    ps.print_stats('put|plasma|store_and_register')\n",
    "    print s.getvalue()"
   ]
  },
  {
   "cell_type": "code",
   "execution_count": 14,
   "metadata": {
    "collapsed": true
   },
   "outputs": [],
   "source": [
    "def print_profile_data_raw(arr):\n",
    "    pr = get_profile_data(arr)\n",
    "    stats_printer(pr)"
   ]
  },
  {
   "cell_type": "code",
   "execution_count": 38,
   "metadata": {
    "collapsed": false
   },
   "outputs": [],
   "source": [
    "def print_profile_data_clean(arr):\n",
    "    profile_data = get_profile_data(arr)\n",
    "    put = 0.0\n",
    "    \n",
    "    print 'ncalls' + '\\t' + 'inlinetime' + '\\t' +'tottime' + '\\t' + '\\t' + 'filename(function)'\n",
    "    for line in profile_data.getstats():\n",
    "        code = line.code\n",
    "        if type(code) is not str:\n",
    "            code = code.co_filename.split('/')[-1]+\":\"+code.co_name\n",
    "\n",
    "        ncalls = line.callcount\n",
    "        tottime = \"%.6f\" % line.totaltime\n",
    "        inlinetime = \"%.6f\" % line.inlinetime\n",
    "        \n",
    "        if 'put' in code or 'plasma' in code or 'store_and_register' in code:\n",
    "            print str(ncalls) + '\\t' + str(inlinetime) + '\\t' + str(tottime) + '\\t' + str(code)"
   ]
  },
  {
   "cell_type": "code",
   "execution_count": 39,
   "metadata": {
    "collapsed": true
   },
   "outputs": [],
   "source": [
    "def get_put_time(arr):\n",
    "    profile_data = get_profile_data(arr)\n",
    "    put = 0.0\n",
    "    \n",
    "    for line in profile_data.getstats():\n",
    "        code = line.code\n",
    "        if type(code) is not str:\n",
    "            code = code.co_filename.split('/')[-1]+\":\"+code.co_name\n",
    "            \n",
    "        if code == \"<method 'put' of 'pyarrow.plasma.PlasmaClient' objects>\":\n",
    "            put = line.totaltime\n",
    "\n",
    "    return put"
   ]
  },
  {
   "cell_type": "markdown",
   "metadata": {},
   "source": [
    "## Test Inputs"
   ]
  },
  {
   "cell_type": "code",
   "execution_count": 40,
   "metadata": {
    "collapsed": false
   },
   "outputs": [],
   "source": [
    "NUM_STRINGS = 2*10**3\n",
    "STRING_LENGTH = 20\n",
    "\n",
    "short_numpy_array = np.array([1,2,3,4,5])\n",
    "large_numpy_array = np.array([i for i in range(NUM_STRINGS)])\n",
    "very_large_numpy_array = np.array([i for i in range(NUM_STRINGS * 10)])\n",
    "large_string_array = [''.join(random.choice(string.ascii_letters) for _ in range(STRING_LENGTH)) for _ in range(NUM_STRINGS)]\n",
    "array_of_large_integers = [np.random.randint(0, sys.maxsize) for _ in range(NUM_STRINGS * 10)]\n",
    "large_string_array_asints = np.array([[ord(c) for c in s] for s in large_string_array], dtype=np.uint8)"
   ]
  },
  {
   "cell_type": "code",
   "execution_count": 41,
   "metadata": {
    "collapsed": false,
    "scrolled": true
   },
   "outputs": [
    {
     "name": "stdout",
     "output_type": "stream",
     "text": [
      "Size of short numpy array: 0 MB\n",
      "Size of large numpy array: 0 MB\n",
      "Size of very large numpy array: 0 MB\n",
      "Size of large string string: 0 MB\n",
      "Size of large integer array: 0 MB\n",
      "Size of string array as ints: 0 MB\n"
     ]
    }
   ],
   "source": [
    "print(\"Size of short numpy array: \" + str(sys.getsizeof(short_numpy_array)/1024/1024) + \" MB\")\n",
    "print(\"Size of large numpy array: \" + str(sys.getsizeof(large_numpy_array)/1024/1024) + \" MB\")\n",
    "print(\"Size of very large numpy array: \" + str(sys.getsizeof(very_large_numpy_array)/1024/1024) + \" MB\")\n",
    "print(\"Size of large string string: \" + str(sys.getsizeof(large_string_array)/1024/1024) + \" MB\")\n",
    "print(\"Size of large integer array: \" + str(sys.getsizeof(array_of_large_integers)/1024/1024) + \" MB\")\n",
    "print(\"Size of string array as ints: \" + str(sys.getsizeof(large_string_array_asints)/1024/1024) + \" MB\")"
   ]
  },
  {
   "cell_type": "markdown",
   "metadata": {},
   "source": [
    "## Profiling Results"
   ]
  },
  {
   "cell_type": "code",
   "execution_count": 42,
   "metadata": {
    "collapsed": false
   },
   "outputs": [
    {
     "name": "stdout",
     "output_type": "stream",
     "text": [
      "ncalls\tinlinetime\ttottime\t\tfilename(function)\n",
      "1\t0.000025\t0.000025\t<method 'compute_put_id' of 'local_scheduler.LocalSchedulerClient' objects>\n",
      "1\t0.000035\t0.000875\tworker.py:store_and_register\n",
      "1\t0.000009\t0.000887\tworker.py:put_object\n",
      "1\t0.000083\t0.001129\tworker.py:put\n",
      "1\t0.000839\t0.000839\t<method 'put' of 'pyarrow.plasma.PlasmaClient' objects>\n"
     ]
    }
   ],
   "source": [
    "print_profile_data_clean(short_numpy_array)"
   ]
  },
  {
   "cell_type": "code",
   "execution_count": 43,
   "metadata": {
    "collapsed": false
   },
   "outputs": [
    {
     "name": "stdout",
     "output_type": "stream",
     "text": [
      "ncalls\tinlinetime\ttottime\t\tfilename(function)\n",
      "1\t0.000024\t0.000024\t<method 'compute_put_id' of 'local_scheduler.LocalSchedulerClient' objects>\n",
      "1\t0.000013\t0.000802\tworker.py:store_and_register\n",
      "1\t0.000003\t0.000808\tworker.py:put_object\n",
      "1\t0.000034\t0.000900\tworker.py:put\n",
      "1\t0.000788\t0.000788\t<method 'put' of 'pyarrow.plasma.PlasmaClient' objects>\n"
     ]
    }
   ],
   "source": [
    "print_profile_data_clean(large_numpy_array)"
   ]
  },
  {
   "cell_type": "code",
   "execution_count": 44,
   "metadata": {
    "collapsed": false
   },
   "outputs": [
    {
     "name": "stdout",
     "output_type": "stream",
     "text": [
      "ncalls\tinlinetime\ttottime\t\tfilename(function)\n",
      "1\t0.000050\t0.000050\t<method 'compute_put_id' of 'local_scheduler.LocalSchedulerClient' objects>\n",
      "1\t0.000020\t0.002952\tworker.py:store_and_register\n",
      "1\t0.000009\t0.002964\tworker.py:put_object\n",
      "1\t0.000030\t0.003103\tworker.py:put\n",
      "1\t0.002932\t0.002932\t<method 'put' of 'pyarrow.plasma.PlasmaClient' objects>\n"
     ]
    }
   ],
   "source": [
    "print_profile_data_clean(very_large_numpy_array)"
   ]
  },
  {
   "cell_type": "code",
   "execution_count": 45,
   "metadata": {
    "collapsed": false
   },
   "outputs": [
    {
     "name": "stdout",
     "output_type": "stream",
     "text": [
      "ncalls\tinlinetime\ttottime\t\tfilename(function)\n",
      "1\t0.000033\t0.000033\t<method 'compute_put_id' of 'local_scheduler.LocalSchedulerClient' objects>\n",
      "1\t0.000017\t0.002896\tworker.py:store_and_register\n",
      "1\t0.000006\t0.002904\tworker.py:put_object\n",
      "1\t0.000024\t0.003005\tworker.py:put\n",
      "1\t0.002878\t0.002878\t<method 'put' of 'pyarrow.plasma.PlasmaClient' objects>\n"
     ]
    }
   ],
   "source": [
    "print_profile_data_clean(large_string_array)"
   ]
  },
  {
   "cell_type": "code",
   "execution_count": 46,
   "metadata": {
    "collapsed": false
   },
   "outputs": [
    {
     "name": "stdout",
     "output_type": "stream",
     "text": [
      "ncalls\tinlinetime\ttottime\t\tfilename(function)\n",
      "1\t0.000031\t0.000031\t<method 'compute_put_id' of 'local_scheduler.LocalSchedulerClient' objects>\n",
      "1\t0.000021\t0.004037\tworker.py:store_and_register\n",
      "1\t0.000007\t0.004046\tworker.py:put_object\n",
      "1\t0.000024\t0.004148\tworker.py:put\n",
      "1\t0.004016\t0.004016\t<method 'put' of 'pyarrow.plasma.PlasmaClient' objects>\n"
     ]
    }
   ],
   "source": [
    "print_profile_data_clean(array_of_large_integers)"
   ]
  },
  {
   "cell_type": "code",
   "execution_count": 47,
   "metadata": {
    "collapsed": false,
    "scrolled": true
   },
   "outputs": [
    {
     "name": "stdout",
     "output_type": "stream",
     "text": [
      "ncalls\tinlinetime\ttottime\t\tfilename(function)\n",
      "1\t0.000028\t0.000028\t<method 'compute_put_id' of 'local_scheduler.LocalSchedulerClient' objects>\n",
      "1\t0.000019\t0.002474\tworker.py:store_and_register\n",
      "1\t0.000006\t0.002482\tworker.py:put_object\n",
      "1\t0.000044\t0.002594\tworker.py:put\n",
      "1\t0.002455\t0.002455\t<method 'put' of 'pyarrow.plasma.PlasmaClient' objects>\n"
     ]
    }
   ],
   "source": [
    "print_profile_data_clean(large_string_array_asints)"
   ]
  },
  {
   "cell_type": "markdown",
   "metadata": {},
   "source": [
    "## Plots"
   ]
  },
  {
   "cell_type": "code",
   "execution_count": 51,
   "metadata": {
    "collapsed": false
   },
   "outputs": [
    {
     "name": "stdout",
     "output_type": "stream",
     "text": [
      "[1, 10, 100, 1000, 10000, 100000, 1000000, 10000000]\n",
      "[0.0005447000000000001, 0.00024209999999999995, 0.0011768, 0.0012046, 0.0005202999999999999, 0.0013662999999999998, 0.0062651, 0.0582652]\n"
     ]
    },
    {
     "data": {
      "text/plain": [
       "[<matplotlib.lines.Line2D at 0x10446fbd0>]"
      ]
     },
     "execution_count": 51,
     "metadata": {},
     "output_type": "execute_result"
    },
    {
     "data": {
      "image/png": "[encoded data removed]",
      "text/plain": [
       "<matplotlib.figure.Figure at 0x1061cb410>"
      ]
     },
     "metadata": {},
     "output_type": "display_data"
    }
   ],
   "source": [
    "xs = [10**i for i in range(8)]\n",
    "ys = []\n",
    "for x in xs:\n",
    "    samples = []\n",
    "    for j in range(10):\n",
    "        samples.append(get_put_time(np.array([i for i in range(x)])))\n",
    "    ys.append(np.average(samples))\n",
    "    \n",
    "print(xs)\n",
    "print(ys)\n",
    "\n",
    "plt.title('Array Length vs Plasma put time')\n",
    "plt.xlabel('Array Length')\n",
    "plt.xscale('log')\n",
    "plt.ylabel('Time (s)')\n",
    "plt.plot(xs, ys)"
   ]
  },
  {
   "cell_type": "code",
   "execution_count": null,
   "metadata": {
    "collapsed": true
   },
   "outputs": [],
   "source": []
  }
 ],
 "metadata": {
  "kernelspec": {
   "display_name": "Python 2",
   "language": "python",
   "name": "python2"
  },
  "language_info": {
   "codemirror_mode": {
    "name": "ipython",
    "version": 2
   },
   "file_extension": ".py",
   "mimetype": "text/x-python",
   "name": "python",
   "nbconvert_exporter": "python",
   "pygments_lexer": "ipython2",
   "version": "2.7.12"
  }
 },
 "nbformat": 4,
 "nbformat_minor": 2
}
