{
 "cells": [
  {
   "cell_type": "code",
   "execution_count": 40,
   "metadata": {},
   "outputs": [],
   "source": [
    "import pyarrow\n",
    "import pyarrow.plasma as plasma\n",
    "import numpy as np\n",
    "import timeit\n",
    "import time\n",
    "import pickle\n",
    "import sys\n",
    "import matplotlib.pyplot as plt\n",
    "%matplotlib inline"
   ]
  },
  {
   "cell_type": "code",
   "execution_count": 41,
   "metadata": {},
   "outputs": [],
   "source": [
    "NUM_STRINGS = 2*10**5\n",
    "STRING_LENGTH = 20\n",
    "numpy_array_1 = np.array([1,2,3,4,5])\n",
    "numpy_array_2 = np.array([i for i in range(10)])\n",
    "numpy_array_3 = np.array([i for i in range(100)])\n",
    "numpy_array_4 = np.array([i for i in range(1000)])\n",
    "numpy_array_5 = np.array([i for i in range(10000)])\n",
    "numpy_array_6 = np.array([i for i in range(100000)])\n",
    "#numpy_array_2 = np.array([i for i in range(NUM_STRINGS)])\n",
    "very_large_numpy_array = np.array([i for i in range(NUM_STRINGS * 10)])"
   ]
  },
  {
   "cell_type": "markdown",
   "metadata": {},
   "source": [
    "### Run plasma store with `plasma_store -m 10000000 -s /tmp/plasma` (allocated 10MB of storage)"
   ]
  },
  {
   "cell_type": "code",
   "execution_count": 64,
   "metadata": {},
   "outputs": [],
   "source": [
    "plasma_client = plasma.connect(\"/tmp/plasma\", \"\", 0)"
   ]
  },
  {
   "cell_type": "code",
   "execution_count": 43,
   "metadata": {},
   "outputs": [],
   "source": [
    "serialization_context = pyarrow._default_serialization_context\n",
    "#set pickle and pytorch statements here?"
   ]
  },
  {
   "cell_type": "code",
   "execution_count": 46,
   "metadata": {},
   "outputs": [
    {
     "name": "stdout",
     "output_type": "stream",
     "text": [
      "0.000817060470581\n"
     ]
    }
   ],
   "source": [
    "t_start = time.time()\n",
    "plasma_client.put(numpy_array_1)\n",
    "t_end = time.time()\n",
    "print t_end - t_start"
   ]
  },
  {
   "cell_type": "code",
   "execution_count": 47,
   "metadata": {},
   "outputs": [
    {
     "name": "stdout",
     "output_type": "stream",
     "text": [
      "0.00284385681152\n"
     ]
    }
   ],
   "source": [
    "t_start = time.time()\n",
    "plasma_client.put(numpy_array_6)\n",
    "t_end = time.time()\n",
    "print t_end - t_start"
   ]
  },
  {
   "cell_type": "markdown",
   "metadata": {},
   "source": [
    "### testing the plasma put function line by line"
   ]
  },
  {
   "cell_type": "code",
   "execution_count": 57,
   "metadata": {},
   "outputs": [],
   "source": [
    "def line_testing_pyarrow_put(arr):\n",
    "    line_times = {'serialize': [],\n",
    "                  'oid_select' : [],\n",
    "                  'buffer_create': [],\n",
    "                  'init_buffer': [],\n",
    "                  'write_stream': [],\n",
    "                  'total': []}\n",
    "    for i in range(10):\n",
    "        t_total_start = time.time()\n",
    "\n",
    "        t_start = time.time()\n",
    "        serialized = pyarrow.serialize(arr, serialization_context)\n",
    "        t_end = time.time()\n",
    "        line_times['serialize'].append(t_end - t_start)\n",
    "\n",
    "        t_start = time.time()\n",
    "        target_id = plasma.ObjectID(str(np.random.randint(100000)))\n",
    "        t_end = time.time()\n",
    "        line_times['oid_select'].append(t_end - t_start)\n",
    "\n",
    "        t_start = time.time()\n",
    "        buffer = plasma_client.create(target_id, serialized.total_bytes)\n",
    "        t_end = time.time()\n",
    "        line_times['buffer_create'].append(t_end - t_start)\n",
    "\n",
    "        t_start = time.time()\n",
    "        stream = pyarrow.FixedSizeBufferWriter(buffer)\n",
    "        t_end = time.time()\n",
    "        line_times['init_buffer'].append(t_end - t_start)\n",
    "\n",
    "        t_start = time.time()\n",
    "        serialized.write_to(stream)\n",
    "        t_end = time.time()\n",
    "        line_times['write_stream'].append(t_end - t_start)\n",
    "\n",
    "        t_total_end = time.time()\n",
    "        line_times['total'].append(t_total_end - t_total_start)\n",
    "        \n",
    "    for item in line_times:\n",
    "        num = reduce(lambda x, y: x + y, line_times[item]) / float(len(line_times[item]))\n",
    "        line_times[item] = num\n",
    "        \n",
    "    print \"serialization time: \" + '\\t' + '\\t' + str(line_times['serialize'])\n",
    "    print \"oid selection time: \" + '\\t' + '\\t' + str(line_times['oid_select'])\n",
    "    print \"buffer creation time: \" + '\\t' + '\\t' + str(line_times['buffer_create'])\n",
    "    print \"initialize buffer writer time: \" + '\\t' + str(line_times['init_buffer'])\n",
    "    print \"write to stream time: \" + '\\t' + '\\t' + str(line_times['write_stream'])\n",
    "    print \"total pyarrow put time: \" + '\\t' + str(line_times['total'])\n",
    "    \n",
    "    return line_times"
   ]
  },
  {
   "cell_type": "code",
   "execution_count": 65,
   "metadata": {},
   "outputs": [
    {
     "name": "stdout",
     "output_type": "stream",
     "text": [
      "serialization time: \t\t8.23259353638e-05\n",
      "oid selection time: \t\t1.95741653442e-05\n",
      "buffer creation time: \t\t0.000270557403564\n",
      "initialize buffer writer time: \t5.57899475098e-06\n",
      "write to stream time: \t\t3.85284423828e-05\n",
      "total pyarrow put time: \t0.000424718856812\n"
     ]
    }
   ],
   "source": [
    "arr_1_times = line_testing_pyarrow_put(numpy_array_1)"
   ]
  },
  {
   "cell_type": "code",
   "execution_count": 66,
   "metadata": {},
   "outputs": [
    {
     "name": "stdout",
     "output_type": "stream",
     "text": [
      "serialization time: \t\t6.97135925293e-05\n",
      "oid selection time: \t\t2.43425369263e-05\n",
      "buffer creation time: \t\t0.000211000442505\n",
      "initialize buffer writer time: \t4.41074371338e-06\n",
      "write to stream time: \t\t2.97069549561e-05\n",
      "total pyarrow put time: \t0.000345587730408\n"
     ]
    }
   ],
   "source": [
    "arr_2_times = line_testing_pyarrow_put(numpy_array_2)"
   ]
  },
  {
   "cell_type": "code",
   "execution_count": 67,
   "metadata": {},
   "outputs": [
    {
     "name": "stdout",
     "output_type": "stream",
     "text": [
      "serialization time: \t\t7.34806060791e-05\n",
      "oid selection time: \t\t2.80141830444e-05\n",
      "buffer creation time: \t\t0.000244045257568\n",
      "initialize buffer writer time: \t5.19752502441e-06\n",
      "write to stream time: \t\t3.71932983398e-05\n",
      "total pyarrow put time: \t0.000395178794861\n"
     ]
    }
   ],
   "source": [
    "arr_3_times = line_testing_pyarrow_put(numpy_array_3)"
   ]
  },
  {
   "cell_type": "code",
   "execution_count": 68,
   "metadata": {},
   "outputs": [
    {
     "name": "stdout",
     "output_type": "stream",
     "text": [
      "serialization time: \t\t7.66754150391e-05\n",
      "oid selection time: \t\t2.09331512451e-05\n",
      "buffer creation time: \t\t0.000312089920044\n",
      "initialize buffer writer time: \t5.69820404053e-06\n",
      "write to stream time: \t\t4.50611114502e-05\n",
      "total pyarrow put time: \t0.000467157363892\n"
     ]
    }
   ],
   "source": [
    "arr_4_times = line_testing_pyarrow_put(numpy_array_4)"
   ]
  },
  {
   "cell_type": "code",
   "execution_count": 69,
   "metadata": {},
   "outputs": [
    {
     "name": "stdout",
     "output_type": "stream",
     "text": [
      "serialization time: \t\t8.10384750366e-05\n",
      "oid selection time: \t\t2.281665802e-05\n",
      "buffer creation time: \t\t0.000353407859802\n",
      "initialize buffer writer time: \t5.76972961426e-06\n",
      "write to stream time: \t\t0.000133514404297\n",
      "total pyarrow put time: \t0.000604438781738\n"
     ]
    }
   ],
   "source": [
    "arr_5_times = line_testing_pyarrow_put(numpy_array_5)"
   ]
  },
  {
   "cell_type": "code",
   "execution_count": 70,
   "metadata": {},
   "outputs": [
    {
     "name": "stdout",
     "output_type": "stream",
     "text": [
      "serialization time: \t\t8.68558883667e-05\n",
      "oid selection time: \t\t2.55107879639e-05\n",
      "buffer creation time: \t\t0.000409746170044\n",
      "initialize buffer writer time: \t5.88893890381e-06\n",
      "write to stream time: \t\t0.000804662704468\n",
      "total pyarrow put time: \t0.00134375095367\n"
     ]
    }
   ],
   "source": [
    "arr_6_times = line_testing_pyarrow_put(numpy_array_6)"
   ]
  },
  {
   "cell_type": "code",
   "execution_count": 67,
   "metadata": {},
   "outputs": [],
   "source": [
    "#why is initializing the buffer so expensive?"
   ]
  },
  {
   "cell_type": "code",
   "execution_count": 71,
   "metadata": {},
   "outputs": [],
   "source": [
    "arr_times = [arr_1_times, arr_2_times, arr_3_times, arr_4_times, arr_5_times, arr_6_times]"
   ]
  },
  {
   "cell_type": "code",
   "execution_count": null,
   "metadata": {},
   "outputs": [],
   "source": [
    "#TODO: make plot for buffer creation time vs. size of object put - does it scale linearly? - compare this to straight up malloc and write to stream"
   ]
  },
  {
   "cell_type": "code",
   "execution_count": 72,
   "metadata": {},
   "outputs": [
    {
     "data": {
      "text/plain": [
       "[<matplotlib.lines.Line2D at 0x10b9aff90>]"
      ]
     },
     "execution_count": 72,
     "metadata": {},
     "output_type": "execute_result"
    },
    {
     "data": {
      "image/png": "[encoded data removed]",
      "text/plain": [
       "<matplotlib.figure.Figure at 0x10ba35190>"
      ]
     },
     "metadata": {},
     "output_type": "display_data"
    }
   ],
   "source": [
    "x = [5, 10, 100, 1000, 10000, 100000]\n",
    "y = [times['buffer_create'] for times in arr_times]\n",
    "\n",
    "plt.title('Array Length vs Plasma Buffer Creation Time')\n",
    "plt.xlabel('Array Length')\n",
    "plt.xscale('log')\n",
    "plt.ylabel('Time (s)')\n",
    "plt.plot(x, y)"
   ]
  },
  {
   "cell_type": "code",
   "execution_count": 73,
   "metadata": {},
   "outputs": [
    {
     "data": {
      "text/plain": [
       "[<matplotlib.lines.Line2D at 0x10e525510>]"
      ]
     },
     "execution_count": 73,
     "metadata": {},
     "output_type": "execute_result"
    },
    {
     "data": {
      "image/png": "[encoded data removed]",
      "text/plain": [
       "<matplotlib.figure.Figure at 0x10e3b3a90>"
      ]
     },
     "metadata": {},
     "output_type": "display_data"
    }
   ],
   "source": [
    "x = [5, 10, 100, 1000, 10000, 100000]\n",
    "y = [times['write_stream'] for times in arr_times]\n",
    "\n",
    "plt.title('Array Length vs Plasma Buffer Write Time')\n",
    "plt.xlabel('Array Length')\n",
    "plt.xscale('log')\n",
    "plt.ylabel('Time (s)')\n",
    "plt.plot(x, y)"
   ]
  },
  {
   "cell_type": "markdown",
   "metadata": {},
   "source": [
    "## Memory Overhead Experiments"
   ]
  },
  {
   "cell_type": "code",
   "execution_count": 254,
   "metadata": {},
   "outputs": [
    {
     "data": {
      "text/plain": [
       "1.0"
      ]
     },
     "execution_count": 254,
     "metadata": {},
     "output_type": "execute_result"
    }
   ],
   "source": [
    "NUM_STRINGS = 131060 # to get exactly 1 MB array\n",
    "one_meg_arr = np.array([i for i in range(NUM_STRINGS)])\n",
    "float(sys.getsizeof(one_meg_arr))/1024.0/1024.0"
   ]
  },
  {
   "cell_type": "code",
   "execution_count": 159,
   "metadata": {},
   "outputs": [],
   "source": [
    "for i in range(6):\n",
    "    plasma_client.put(one_meg_arr)"
   ]
  },
  {
   "cell_type": "code",
   "execution_count": 160,
   "metadata": {},
   "outputs": [
    {
     "data": {
      "text/plain": [
       "ObjectID(c2d2d33241ad32b654ca09d4420044835a573d5c)"
      ]
     },
     "execution_count": 160,
     "metadata": {},
     "output_type": "execute_result"
    }
   ],
   "source": [
    "plasma_client.put(one_meg_arr)"
   ]
  },
  {
   "cell_type": "code",
   "execution_count": null,
   "metadata": {},
   "outputs": [],
   "source": [
    "#6 1MB arrays fit in 10MB store -> 6MB fits but 7MB doesn't"
   ]
  },
  {
   "cell_type": "code",
   "execution_count": 204,
   "metadata": {},
   "outputs": [
    {
     "data": {
      "text/plain": [
       "100.0"
      ]
     },
     "execution_count": 204,
     "metadata": {},
     "output_type": "execute_result"
    }
   ],
   "source": [
    "NUM_STRINGS = 12788 # to get exactly 100KB array\n",
    "hundred_kilo_arr = np.array([i for i in range(NUM_STRINGS)])\n",
    "float(sys.getsizeof(hundred_kilo_arr))/1024.0"
   ]
  },
  {
   "cell_type": "code",
   "execution_count": 205,
   "metadata": {},
   "outputs": [],
   "source": [
    "for i in range(75):\n",
    "    plasma_client.putr (hundred_kilo_arr)"
   ]
  },
  {
   "cell_type": "code",
   "execution_count": 209,
   "metadata": {},
   "outputs": [
    {
     "data": {
      "text/plain": [
       "ObjectID(321095db89644bbc46b57ad33beef51131bbf2be)"
      ]
     },
     "execution_count": 209,
     "metadata": {},
     "output_type": "execute_result"
    }
   ],
   "source": [
    "plasma_client.put(hundred_kilo_arr)"
   ]
  },
  {
   "cell_type": "code",
   "execution_count": null,
   "metadata": {},
   "outputs": [],
   "source": [
    "#79 100KB arrays fit in 10MB store -> 7.9MB fits but 8MB doesn't"
   ]
  },
  {
   "cell_type": "code",
   "execution_count": 216,
   "metadata": {},
   "outputs": [
    {
     "data": {
      "text/plain": [
       "1.0"
      ]
     },
     "execution_count": 216,
     "metadata": {},
     "output_type": "execute_result"
    }
   ],
   "source": [
    "NUM_STRINGS = 116 # to get exactly 100KB array\n",
    "one_kilo_arr = np.array([i for i in range(NUM_STRINGS)])\n",
    "float(sys.getsizeof(one_kilo_arr))/1024.0"
   ]
  },
  {
   "cell_type": "code",
   "execution_count": 253,
   "metadata": {},
   "outputs": [],
   "source": [
    "for i in range(10):\n",
    "    plasma_client.put(one_kilo_arr)"
   ]
  },
  {
   "cell_type": "code",
   "execution_count": 222,
   "metadata": {},
   "outputs": [
    {
     "data": {
      "text/plain": [
       "ObjectID(c9f998ae4b74903963cc14dc3971a90df0f7e68e)"
      ]
     },
     "execution_count": 222,
     "metadata": {},
     "output_type": "execute_result"
    }
   ],
   "source": [
    "plasma_client.put(one_kilo_arr)"
   ]
  },
  {
   "cell_type": "code",
   "execution_count": null,
   "metadata": {},
   "outputs": [],
   "source": [
    "#4770 1KB arrays fit in 10MB store -> 4.77MB data fits in 10MB but 4.78MB doesn't"
   ]
  },
  {
   "cell_type": "code",
   "execution_count": null,
   "metadata": {},
   "outputs": [],
   "source": [
    "#plot these to compare"
   ]
  },
  {
   "cell_type": "markdown",
   "metadata": {},
   "source": [
    "## Huge Page Support Experiments"
   ]
  },
  {
   "cell_type": "markdown",
   "metadata": {},
   "source": [
    "### run `plasma_store -s /tmp/plasma -m 10000000000 -d /tmp/hugepages -h` to start plasma store with huge page support - still working on getting this to work on Mac"
   ]
  },
  {
   "cell_type": "code",
   "execution_count": 256,
   "metadata": {},
   "outputs": [
    {
     "data": {
      "text/plain": [
       "100.0"
      ]
     },
     "execution_count": 256,
     "metadata": {},
     "output_type": "execute_result"
    }
   ],
   "source": [
    "NUM_STRINGS = 12788 # to get exactly 100KB array\n",
    "hundred_kilo_arr = np.array([i for i in range(NUM_STRINGS)])\n",
    "float(sys.getsizeof(hundred_kilo_arr))/1024.0"
   ]
  },
  {
   "cell_type": "code",
   "execution_count": null,
   "metadata": {},
   "outputs": [],
   "source": [
    "#TODO: buffer allocation time as a function of page size  - potentially small page size support? - look where page size can be set"
   ]
  }
 ],
 "metadata": {
  "kernelspec": {
   "display_name": "Python 2",
   "language": "python",
   "name": "python2"
  },
  "language_info": {
   "codemirror_mode": {
    "name": "ipython",
    "version": 2
   },
   "file_extension": ".py",
   "mimetype": "text/x-python",
   "name": "python",
   "nbconvert_exporter": "python",
   "pygments_lexer": "ipython2",
   "version": "2.7.12"
  }
 },
 "nbformat": 4,
 "nbformat_minor": 2
}
