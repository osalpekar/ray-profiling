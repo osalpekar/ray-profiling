{
 "cells": [
  {
   "cell_type": "code",
   "execution_count": 103,
   "metadata": {},
   "outputs": [],
   "source": [
    "import pyarrow\n",
    "import pyarrow.plasma as plasma\n",
    "import numpy as np\n",
    "import timeit\n",
    "import time\n",
    "import pickle\n",
    "import sys"
   ]
  },
  {
   "cell_type": "code",
   "execution_count": 37,
   "metadata": {},
   "outputs": [],
   "source": [
    "NUM_STRINGS = 2*10**5\n",
    "STRING_LENGTH = 20\n",
    "short_numpy_array = np.array([1,2,3,4,5])\n",
    "large_numpy_array = np.array([i for i in range(NUM_STRINGS)])\n",
    "very_large_numpy_array = np.array([i for i in range(NUM_STRINGS * 10)])"
   ]
  },
  {
   "cell_type": "markdown",
   "metadata": {},
   "source": [
    "### Run plasma store with `plasma_store -m 10000000 -s /tmp/plasma` (allocated 10MB of storage)"
   ]
  },
  {
   "cell_type": "code",
   "execution_count": 258,
   "metadata": {},
   "outputs": [],
   "source": [
    "plasma_client = plasma.connect(\"/tmp/plasma\", \"\", 0)"
   ]
  },
  {
   "cell_type": "code",
   "execution_count": 123,
   "metadata": {},
   "outputs": [],
   "source": [
    "serialization_context = pyarrow._default_serialization_context\n",
    "#set pickle and pytorch statements here?"
   ]
  },
  {
   "cell_type": "code",
   "execution_count": 74,
   "metadata": {},
   "outputs": [
    {
     "name": "stdout",
     "output_type": "stream",
     "text": [
      "0.00124001502991\n"
     ]
    }
   ],
   "source": [
    "t_start = time.time()\n",
    "plasma_client.put(short_numpy_array)\n",
    "t_end = time.time()\n",
    "print t_end - t_start"
   ]
  },
  {
   "cell_type": "code",
   "execution_count": 75,
   "metadata": {},
   "outputs": [
    {
     "name": "stdout",
     "output_type": "stream",
     "text": [
      "0.00404405593872\n"
     ]
    }
   ],
   "source": [
    "t_start = time.time()\n",
    "plasma_client.put(large_numpy_array)\n",
    "t_end = time.time()\n",
    "print t_end - t_start"
   ]
  },
  {
   "cell_type": "markdown",
   "metadata": {},
   "source": [
    "### testing the plasma put function line by line"
   ]
  },
  {
   "cell_type": "code",
   "execution_count": 80,
   "metadata": {},
   "outputs": [],
   "source": [
    "def line_testing_pyarrow_put(arr):\n",
    "    t_total_start = time.time()\n",
    "    \n",
    "    t_start = time.time()\n",
    "    serialized = pyarrow.serialize(arr, serialization_context)\n",
    "    t_end = time.time()\n",
    "    print \"serialization time: \" + '\\t' + '\\t' + str(t_end - t_start)\n",
    "\n",
    "    t_start = time.time()\n",
    "    target_id = plasma.ObjectID(str(np.random.randint(100000)))\n",
    "    t_end = time.time()\n",
    "    print \"oid selection time: \" + '\\t' + '\\t' + str(t_end - t_start)\n",
    "\n",
    "    t_start = time.time()\n",
    "    buffer = plasma_client.create(target_id, serialized.total_bytes)\n",
    "    t_end = time.time()\n",
    "    print \"buffer creation time: \" + '\\t' + '\\t' + str(t_end - t_start)\n",
    "\n",
    "    t_start = time.time()\n",
    "    stream = pyarrow.FixedSizeBufferWriter(buffer)\n",
    "    t_end = time.time()\n",
    "    print \"initialize buffer writer time: \" + '\\t' + str(t_end - t_start)\n",
    "\n",
    "    t_start = time.time()\n",
    "    serialized.write_to(stream)\n",
    "    t_end = time.time()\n",
    "    print \"write to stream time: \" + '\\t' + '\\t' + str(t_end - t_start)\n",
    "    \n",
    "    t_total_end = time.time()\n",
    "    print \"total pyarrow put time: \" + '\\t' + str(t_total_end - t_total_start)"
   ]
  },
  {
   "cell_type": "code",
   "execution_count": 81,
   "metadata": {},
   "outputs": [
    {
     "name": "stdout",
     "output_type": "stream",
     "text": [
      "serialization time: \t\t7.39097595215e-05\n",
      "oid selection time: \t\t2.19345092773e-05\n",
      "buffer creation time: \t\t0.000393867492676\n",
      "initialize buffer writer time: \t4.05311584473e-06\n",
      "write to stream time: \t\t4.98294830322e-05\n",
      "total pyarrow put time: \t0.00103282928467\n"
     ]
    }
   ],
   "source": [
    "line_testing_pyarrow_put(short_numpy_array)"
   ]
  },
  {
   "cell_type": "code",
   "execution_count": 82,
   "metadata": {},
   "outputs": [
    {
     "name": "stdout",
     "output_type": "stream",
     "text": [
      "serialization time: \t\t0.000170946121216\n",
      "oid selection time: \t\t2.59876251221e-05\n",
      "buffer creation time: \t\t0.00133895874023\n",
      "initialize buffer writer time: \t5.00679016113e-06\n",
      "write to stream time: \t\t0.00197410583496\n",
      "total pyarrow put time: \t0.0040020942688\n"
     ]
    }
   ],
   "source": [
    "line_testing_pyarrow_put(large_numpy_array)"
   ]
  },
  {
   "cell_type": "code",
   "execution_count": 67,
   "metadata": {},
   "outputs": [],
   "source": [
    "#why is initializing the buffer the most expensive part?"
   ]
  },
  {
   "cell_type": "markdown",
   "metadata": {},
   "source": [
    "## Memory Overhead Experiments"
   ]
  },
  {
   "cell_type": "code",
   "execution_count": 254,
   "metadata": {},
   "outputs": [
    {
     "data": {
      "text/plain": [
       "1.0"
      ]
     },
     "execution_count": 254,
     "metadata": {},
     "output_type": "execute_result"
    }
   ],
   "source": [
    "NUM_STRINGS = 131060 # to get exactly 1 MB array\n",
    "one_meg_arr = np.array([i for i in range(NUM_STRINGS)])\n",
    "float(sys.getsizeof(one_meg_arr))/1024.0/1024.0"
   ]
  },
  {
   "cell_type": "code",
   "execution_count": 159,
   "metadata": {},
   "outputs": [],
   "source": [
    "for i in range(6):\n",
    "    plasma_client.put(one_meg_arr)"
   ]
  },
  {
   "cell_type": "code",
   "execution_count": 160,
   "metadata": {},
   "outputs": [
    {
     "data": {
      "text/plain": [
       "ObjectID(c2d2d33241ad32b654ca09d4420044835a573d5c)"
      ]
     },
     "execution_count": 160,
     "metadata": {},
     "output_type": "execute_result"
    }
   ],
   "source": [
    "plasma_client.put(one_meg_arr)"
   ]
  },
  {
   "cell_type": "code",
   "execution_count": null,
   "metadata": {},
   "outputs": [],
   "source": [
    "#6 1MB arrays fit in 10MB store -> 6MB fits but 7MB doesn't"
   ]
  },
  {
   "cell_type": "code",
   "execution_count": 204,
   "metadata": {},
   "outputs": [
    {
     "data": {
      "text/plain": [
       "100.0"
      ]
     },
     "execution_count": 204,
     "metadata": {},
     "output_type": "execute_result"
    }
   ],
   "source": [
    "NUM_STRINGS = 12788 # to get exactly 100KB array\n",
    "hundred_kilo_arr = np.array([i for i in range(NUM_STRINGS)])\n",
    "float(sys.getsizeof(hundred_kilo_arr))/1024.0"
   ]
  },
  {
   "cell_type": "code",
   "execution_count": 205,
   "metadata": {},
   "outputs": [],
   "source": [
    "for i in range(75):\n",
    "    plasma_client.putr (hundred_kilo_arr)"
   ]
  },
  {
   "cell_type": "code",
   "execution_count": 209,
   "metadata": {},
   "outputs": [
    {
     "data": {
      "text/plain": [
       "ObjectID(321095db89644bbc46b57ad33beef51131bbf2be)"
      ]
     },
     "execution_count": 209,
     "metadata": {},
     "output_type": "execute_result"
    }
   ],
   "source": [
    "plasma_client.put(hundred_kilo_arr)"
   ]
  },
  {
   "cell_type": "code",
   "execution_count": null,
   "metadata": {},
   "outputs": [],
   "source": [
    "#79 100KB arrays fit in 10MB store -> 7.9MB fits but 8MB doesn't"
   ]
  },
  {
   "cell_type": "code",
   "execution_count": 216,
   "metadata": {},
   "outputs": [
    {
     "data": {
      "text/plain": [
       "1.0"
      ]
     },
     "execution_count": 216,
     "metadata": {},
     "output_type": "execute_result"
    }
   ],
   "source": [
    "NUM_STRINGS = 116 # to get exactly 100KB array\n",
    "one_kilo_arr = np.array([i for i in range(NUM_STRINGS)])\n",
    "float(sys.getsizeof(one_kilo_arr))/1024.0"
   ]
  },
  {
   "cell_type": "code",
   "execution_count": 253,
   "metadata": {},
   "outputs": [],
   "source": [
    "for i in range(10):\n",
    "    plasma_client.put(one_kilo_arr)"
   ]
  },
  {
   "cell_type": "code",
   "execution_count": 222,
   "metadata": {},
   "outputs": [
    {
     "data": {
      "text/plain": [
       "ObjectID(c9f998ae4b74903963cc14dc3971a90df0f7e68e)"
      ]
     },
     "execution_count": 222,
     "metadata": {},
     "output_type": "execute_result"
    }
   ],
   "source": [
    "plasma_client.put(one_kilo_arr)"
   ]
  },
  {
   "cell_type": "code",
   "execution_count": null,
   "metadata": {},
   "outputs": [],
   "source": [
    "#4770 1KB arrays fit in 10MB store -> 4.77MB data fits in 10MB but 4.78MB doesn't"
   ]
  },
  {
   "cell_type": "markdown",
   "metadata": {},
   "source": [
    "## Huge Page Support Experiments"
   ]
  },
  {
   "cell_type": "markdown",
   "metadata": {},
   "source": [
    "### run `plasma_store -s /tmp/plasma -m 10000000000 -d /tmp/hugepages -h` to start plasma store with huge page support - still working on getting this to work on Mac"
   ]
  },
  {
   "cell_type": "code",
   "execution_count": 256,
   "metadata": {},
   "outputs": [
    {
     "data": {
      "text/plain": [
       "100.0"
      ]
     },
     "execution_count": 256,
     "metadata": {},
     "output_type": "execute_result"
    }
   ],
   "source": [
    "NUM_STRINGS = 12788 # to get exactly 100KB array\n",
    "hundred_kilo_arr = np.array([i for i in range(NUM_STRINGS)])\n",
    "float(sys.getsizeof(hundred_kilo_arr))/1024.0"
   ]
  },
  {
   "cell_type": "code",
   "execution_count": null,
   "metadata": {},
   "outputs": [],
   "source": []
  }
 ],
 "metadata": {
  "kernelspec": {
   "display_name": "Python 2",
   "language": "python",
   "name": "python2"
  },
  "language_info": {
   "codemirror_mode": {
    "name": "ipython",
    "version": 2
   },
   "file_extension": ".py",
   "mimetype": "text/x-python",
   "name": "python",
   "nbconvert_exporter": "python",
   "pygments_lexer": "ipython2",
   "version": "2.7.12"
  }
 },
 "nbformat": 4,
 "nbformat_minor": 2
}
